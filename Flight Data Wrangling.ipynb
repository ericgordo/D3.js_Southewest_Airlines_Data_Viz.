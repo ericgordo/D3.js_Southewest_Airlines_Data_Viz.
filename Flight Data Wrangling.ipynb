{
 "cells": [
  {
   "cell_type": "code",
   "execution_count": 1,
   "metadata": {
    "collapsed": true
   },
   "outputs": [],
   "source": [
    "from pandas import Series, DataFrame\n",
    "import pandas as pd\n",
    "import numpy as np\n",
    "import matplotlib.pyplot as plt"
   ]
  },
  {
   "cell_type": "code",
   "execution_count": 2,
   "metadata": {
    "collapsed": false
   },
   "outputs": [
    {
     "ename": "IOError",
     "evalue": "File carriers.csv does not exist",
     "output_type": "error",
     "traceback": [
      "\u001b[0;31m---------------------------------------------------------------------------\u001b[0m",
      "\u001b[0;31mIOError\u001b[0m                                   Traceback (most recent call last)",
      "\u001b[0;32m<ipython-input-2-e1537270cee5>\u001b[0m in \u001b[0;36m<module>\u001b[0;34m()\u001b[0m\n\u001b[0;32m----> 1\u001b[0;31m \u001b[0mcarriers\u001b[0m\u001b[0;34m=\u001b[0m\u001b[0mpd\u001b[0m\u001b[0;34m.\u001b[0m\u001b[0mread_csv\u001b[0m\u001b[0;34m(\u001b[0m\u001b[0;34m\"carriers.csv\"\u001b[0m\u001b[0;34m)\u001b[0m\u001b[0;34m\u001b[0m\u001b[0m\n\u001b[0m\u001b[1;32m      2\u001b[0m \u001b[0mcarriers_df\u001b[0m\u001b[0;34m=\u001b[0m\u001b[0mDataFrame\u001b[0m\u001b[0;34m(\u001b[0m\u001b[0mcarriers\u001b[0m\u001b[0;34m)\u001b[0m\u001b[0;34m\u001b[0m\u001b[0m\n\u001b[1;32m      3\u001b[0m \u001b[0;31m#carriers_df.set_index('Code', inplace=True)\u001b[0m\u001b[0;34m\u001b[0m\u001b[0;34m\u001b[0m\u001b[0m\n\u001b[1;32m      4\u001b[0m \u001b[0mcarriers_df\u001b[0m\u001b[0;34m.\u001b[0m\u001b[0mhead\u001b[0m\u001b[0;34m(\u001b[0m\u001b[0;34m)\u001b[0m\u001b[0;34m\u001b[0m\u001b[0m\n",
      "\u001b[0;32m/Users/ericgordo/anaconda/lib/python2.7/site-packages/pandas/io/parsers.pyc\u001b[0m in \u001b[0;36mparser_f\u001b[0;34m(filepath_or_buffer, sep, delimiter, header, names, index_col, usecols, squeeze, prefix, mangle_dupe_cols, dtype, engine, converters, true_values, false_values, skipinitialspace, skiprows, skipfooter, nrows, na_values, keep_default_na, na_filter, verbose, skip_blank_lines, parse_dates, infer_datetime_format, keep_date_col, date_parser, dayfirst, iterator, chunksize, compression, thousands, decimal, lineterminator, quotechar, quoting, escapechar, comment, encoding, dialect, tupleize_cols, error_bad_lines, warn_bad_lines, skip_footer, doublequote, delim_whitespace, as_recarray, compact_ints, use_unsigned, low_memory, buffer_lines, memory_map, float_precision)\u001b[0m\n\u001b[1;32m    560\u001b[0m                     skip_blank_lines=skip_blank_lines)\n\u001b[1;32m    561\u001b[0m \u001b[0;34m\u001b[0m\u001b[0m\n\u001b[0;32m--> 562\u001b[0;31m         \u001b[0;32mreturn\u001b[0m \u001b[0m_read\u001b[0m\u001b[0;34m(\u001b[0m\u001b[0mfilepath_or_buffer\u001b[0m\u001b[0;34m,\u001b[0m \u001b[0mkwds\u001b[0m\u001b[0;34m)\u001b[0m\u001b[0;34m\u001b[0m\u001b[0m\n\u001b[0m\u001b[1;32m    563\u001b[0m \u001b[0;34m\u001b[0m\u001b[0m\n\u001b[1;32m    564\u001b[0m     \u001b[0mparser_f\u001b[0m\u001b[0;34m.\u001b[0m\u001b[0m__name__\u001b[0m \u001b[0;34m=\u001b[0m \u001b[0mname\u001b[0m\u001b[0;34m\u001b[0m\u001b[0m\n",
      "\u001b[0;32m/Users/ericgordo/anaconda/lib/python2.7/site-packages/pandas/io/parsers.pyc\u001b[0m in \u001b[0;36m_read\u001b[0;34m(filepath_or_buffer, kwds)\u001b[0m\n\u001b[1;32m    313\u001b[0m \u001b[0;34m\u001b[0m\u001b[0m\n\u001b[1;32m    314\u001b[0m     \u001b[0;31m# Create the parser.\u001b[0m\u001b[0;34m\u001b[0m\u001b[0;34m\u001b[0m\u001b[0m\n\u001b[0;32m--> 315\u001b[0;31m     \u001b[0mparser\u001b[0m \u001b[0;34m=\u001b[0m \u001b[0mTextFileReader\u001b[0m\u001b[0;34m(\u001b[0m\u001b[0mfilepath_or_buffer\u001b[0m\u001b[0;34m,\u001b[0m \u001b[0;34m**\u001b[0m\u001b[0mkwds\u001b[0m\u001b[0;34m)\u001b[0m\u001b[0;34m\u001b[0m\u001b[0m\n\u001b[0m\u001b[1;32m    316\u001b[0m \u001b[0;34m\u001b[0m\u001b[0m\n\u001b[1;32m    317\u001b[0m     \u001b[0;32mif\u001b[0m \u001b[0;34m(\u001b[0m\u001b[0mnrows\u001b[0m \u001b[0;32mis\u001b[0m \u001b[0;32mnot\u001b[0m \u001b[0mNone\u001b[0m\u001b[0;34m)\u001b[0m \u001b[0;32mand\u001b[0m \u001b[0;34m(\u001b[0m\u001b[0mchunksize\u001b[0m \u001b[0;32mis\u001b[0m \u001b[0;32mnot\u001b[0m \u001b[0mNone\u001b[0m\u001b[0;34m)\u001b[0m\u001b[0;34m:\u001b[0m\u001b[0;34m\u001b[0m\u001b[0m\n",
      "\u001b[0;32m/Users/ericgordo/anaconda/lib/python2.7/site-packages/pandas/io/parsers.pyc\u001b[0m in \u001b[0;36m__init__\u001b[0;34m(self, f, engine, **kwds)\u001b[0m\n\u001b[1;32m    643\u001b[0m             \u001b[0mself\u001b[0m\u001b[0;34m.\u001b[0m\u001b[0moptions\u001b[0m\u001b[0;34m[\u001b[0m\u001b[0;34m'has_index_names'\u001b[0m\u001b[0;34m]\u001b[0m \u001b[0;34m=\u001b[0m \u001b[0mkwds\u001b[0m\u001b[0;34m[\u001b[0m\u001b[0;34m'has_index_names'\u001b[0m\u001b[0;34m]\u001b[0m\u001b[0;34m\u001b[0m\u001b[0m\n\u001b[1;32m    644\u001b[0m \u001b[0;34m\u001b[0m\u001b[0m\n\u001b[0;32m--> 645\u001b[0;31m         \u001b[0mself\u001b[0m\u001b[0;34m.\u001b[0m\u001b[0m_make_engine\u001b[0m\u001b[0;34m(\u001b[0m\u001b[0mself\u001b[0m\u001b[0;34m.\u001b[0m\u001b[0mengine\u001b[0m\u001b[0;34m)\u001b[0m\u001b[0;34m\u001b[0m\u001b[0m\n\u001b[0m\u001b[1;32m    646\u001b[0m \u001b[0;34m\u001b[0m\u001b[0m\n\u001b[1;32m    647\u001b[0m     \u001b[0;32mdef\u001b[0m \u001b[0mclose\u001b[0m\u001b[0;34m(\u001b[0m\u001b[0mself\u001b[0m\u001b[0;34m)\u001b[0m\u001b[0;34m:\u001b[0m\u001b[0;34m\u001b[0m\u001b[0m\n",
      "\u001b[0;32m/Users/ericgordo/anaconda/lib/python2.7/site-packages/pandas/io/parsers.pyc\u001b[0m in \u001b[0;36m_make_engine\u001b[0;34m(self, engine)\u001b[0m\n\u001b[1;32m    797\u001b[0m     \u001b[0;32mdef\u001b[0m \u001b[0m_make_engine\u001b[0m\u001b[0;34m(\u001b[0m\u001b[0mself\u001b[0m\u001b[0;34m,\u001b[0m \u001b[0mengine\u001b[0m\u001b[0;34m=\u001b[0m\u001b[0;34m'c'\u001b[0m\u001b[0;34m)\u001b[0m\u001b[0;34m:\u001b[0m\u001b[0;34m\u001b[0m\u001b[0m\n\u001b[1;32m    798\u001b[0m         \u001b[0;32mif\u001b[0m \u001b[0mengine\u001b[0m \u001b[0;34m==\u001b[0m \u001b[0;34m'c'\u001b[0m\u001b[0;34m:\u001b[0m\u001b[0;34m\u001b[0m\u001b[0m\n\u001b[0;32m--> 799\u001b[0;31m             \u001b[0mself\u001b[0m\u001b[0;34m.\u001b[0m\u001b[0m_engine\u001b[0m \u001b[0;34m=\u001b[0m \u001b[0mCParserWrapper\u001b[0m\u001b[0;34m(\u001b[0m\u001b[0mself\u001b[0m\u001b[0;34m.\u001b[0m\u001b[0mf\u001b[0m\u001b[0;34m,\u001b[0m \u001b[0;34m**\u001b[0m\u001b[0mself\u001b[0m\u001b[0;34m.\u001b[0m\u001b[0moptions\u001b[0m\u001b[0;34m)\u001b[0m\u001b[0;34m\u001b[0m\u001b[0m\n\u001b[0m\u001b[1;32m    800\u001b[0m         \u001b[0;32melse\u001b[0m\u001b[0;34m:\u001b[0m\u001b[0;34m\u001b[0m\u001b[0m\n\u001b[1;32m    801\u001b[0m             \u001b[0;32mif\u001b[0m \u001b[0mengine\u001b[0m \u001b[0;34m==\u001b[0m \u001b[0;34m'python'\u001b[0m\u001b[0;34m:\u001b[0m\u001b[0;34m\u001b[0m\u001b[0m\n",
      "\u001b[0;32m/Users/ericgordo/anaconda/lib/python2.7/site-packages/pandas/io/parsers.pyc\u001b[0m in \u001b[0;36m__init__\u001b[0;34m(self, src, **kwds)\u001b[0m\n\u001b[1;32m   1211\u001b[0m         \u001b[0mkwds\u001b[0m\u001b[0;34m[\u001b[0m\u001b[0;34m'allow_leading_cols'\u001b[0m\u001b[0;34m]\u001b[0m \u001b[0;34m=\u001b[0m \u001b[0mself\u001b[0m\u001b[0;34m.\u001b[0m\u001b[0mindex_col\u001b[0m \u001b[0;32mis\u001b[0m \u001b[0;32mnot\u001b[0m \u001b[0mFalse\u001b[0m\u001b[0;34m\u001b[0m\u001b[0m\n\u001b[1;32m   1212\u001b[0m \u001b[0;34m\u001b[0m\u001b[0m\n\u001b[0;32m-> 1213\u001b[0;31m         \u001b[0mself\u001b[0m\u001b[0;34m.\u001b[0m\u001b[0m_reader\u001b[0m \u001b[0;34m=\u001b[0m \u001b[0m_parser\u001b[0m\u001b[0;34m.\u001b[0m\u001b[0mTextReader\u001b[0m\u001b[0;34m(\u001b[0m\u001b[0msrc\u001b[0m\u001b[0;34m,\u001b[0m \u001b[0;34m**\u001b[0m\u001b[0mkwds\u001b[0m\u001b[0;34m)\u001b[0m\u001b[0;34m\u001b[0m\u001b[0m\n\u001b[0m\u001b[1;32m   1214\u001b[0m \u001b[0;34m\u001b[0m\u001b[0m\n\u001b[1;32m   1215\u001b[0m         \u001b[0;31m# XXX\u001b[0m\u001b[0;34m\u001b[0m\u001b[0;34m\u001b[0m\u001b[0m\n",
      "\u001b[0;32mpandas/parser.pyx\u001b[0m in \u001b[0;36mpandas.parser.TextReader.__cinit__ (pandas/parser.c:3427)\u001b[0;34m()\u001b[0m\n",
      "\u001b[0;32mpandas/parser.pyx\u001b[0m in \u001b[0;36mpandas.parser.TextReader._setup_parser_source (pandas/parser.c:6861)\u001b[0;34m()\u001b[0m\n",
      "\u001b[0;31mIOError\u001b[0m: File carriers.csv does not exist"
     ]
    }
   ],
   "source": [
    "carriers=pd.read_csv(\"carriers.csv\")\n",
    "carriers_df=DataFrame(carriers)\n",
    "#carriers_df.set_index('Code', inplace=True)\n",
    "carriers_df.head()"
   ]
  },
  {
   "cell_type": "code",
   "execution_count": null,
   "metadata": {
    "collapsed": false
   },
   "outputs": [],
   "source": [
    "carriers_dict=carriers_df.to_dict()\n",
    "print 'XBT' in carriers_dict['Description']"
   ]
  },
  {
   "cell_type": "code",
   "execution_count": null,
   "metadata": {
    "collapsed": false
   },
   "outputs": [],
   "source": [
    "carriers_dic={}\n",
    "for row in carriers_df.itertuples(index=False):\n",
    "    carriers_dic[row[0]] = row[1]\n",
    "\n",
    "print carriers_dic['WN']"
   ]
  },
  {
   "cell_type": "code",
   "execution_count": null,
   "metadata": {
    "collapsed": false
   },
   "outputs": [],
   "source": [
    "#Change This!!!\n",
    "#flights = pd.read_csv(\"2002.csv\")\n",
    "flights.keys()\n",
    "flights.head(30)"
   ]
  },
  {
   "cell_type": "code",
   "execution_count": null,
   "metadata": {
    "collapsed": false
   },
   "outputs": [],
   "source": [
    "grouped = flights.groupby([\"UniqueCarrier\"], as_index=False)\n",
    "count_groups = grouped['AirTime'].count()\n",
    "count_groups.rename(columns={'AirTime':'Flight Count'},inplace=True)\n",
    "delays = flights.groupby(['UniqueCarrier','CancellationCode'],as_index=False)['Month'].count()\n",
    "delays.rename(columns={'Month':'Delay Type'}, inplace=True)\n",
    "summed_groups=DataFrame(grouped[['AirTime','DepDelay','ArrDelay','Distance','CarrierDelay','NASDelay','Cancelled']].sum())\n",
    "\n",
    "print len(count_groups),count_groups.head()\n",
    "print len(summed_groups), summed_groups.head()\n",
    "print delays.head()"
   ]
  },
  {
   "cell_type": "code",
   "execution_count": 151,
   "metadata": {
    "collapsed": false
   },
   "outputs": [
    {
     "name": "stdout",
     "output_type": "stream",
     "text": [
      "0 Empty DataFrame\n",
      "Columns: []\n",
      "Index: []\n"
     ]
    }
   ],
   "source": [
    "delays_final=DataFrame(delays.pivot(index='UniqueCarrier',columns='CancellationCode'))\n",
    "print len(delays_final), delays_final.head()"
   ]
  },
  {
   "cell_type": "code",
   "execution_count": 152,
   "metadata": {
    "collapsed": false
   },
   "outputs": [
    {
     "name": "stdout",
     "output_type": "stream",
     "text": [
      "Empty DataFrame\n",
      "Columns: [UniqueCarrier, Flight Count, AirTime, DepDelay, ArrDelay, Distance, CarrierDelay, NASDelay, Cancelled]\n",
      "Index: [] 0\n"
     ]
    }
   ],
   "source": [
    "merged = DataFrame(pd.merge(count_groups,summed_groups, on=\"UniqueCarrier\", copy=False))\n",
    "merged = pd.merge(merged, delays_final, left_on=\"UniqueCarrier\", right_index=True)\n",
    "print merged.head(),len(merged)"
   ]
  },
  {
   "cell_type": "markdown",
   "metadata": {},
   "source": [
    "## CHANGE THIS YEAR"
   ]
  },
  {
   "cell_type": "code",
   "execution_count": 153,
   "metadata": {
    "collapsed": false
   },
   "outputs": [
    {
     "name": "stdout",
     "output_type": "stream",
     "text": [
      "Index([u'UniqueCarrier', u'Flight Count', u'AirTime', u'DepDelay', u'ArrDelay',\n",
      "       u'Distance', u'CarrierDelay', u'NASDelay', u'Cancelled'],\n",
      "      dtype='object')\n"
     ]
    },
    {
     "data": {
      "text/html": [
       "<div>\n",
       "<table border=\"1\" class=\"dataframe\">\n",
       "  <thead>\n",
       "    <tr style=\"text-align: right;\">\n",
       "      <th></th>\n",
       "      <th>UniqueCarrier</th>\n",
       "      <th>Flight Count</th>\n",
       "      <th>AirTime</th>\n",
       "      <th>DepDelay</th>\n",
       "      <th>ArrDelay</th>\n",
       "      <th>Distance</th>\n",
       "      <th>CarrierDelay</th>\n",
       "      <th>NASDelay</th>\n",
       "      <th>Cancelled</th>\n",
       "      <th>Year</th>\n",
       "    </tr>\n",
       "  </thead>\n",
       "  <tbody>\n",
       "  </tbody>\n",
       "</table>\n",
       "</div>"
      ],
      "text/plain": [
       "Empty DataFrame\n",
       "Columns: [UniqueCarrier, Flight Count, AirTime, DepDelay, ArrDelay, Distance, CarrierDelay, NASDelay, Cancelled, Year]\n",
       "Index: []"
      ]
     },
     "execution_count": 153,
     "metadata": {},
     "output_type": "execute_result"
    }
   ],
   "source": [
    "print merged.keys()\n",
    "better_codes = merged['UniqueCarrier'].map(carriers_dic)\n",
    "merged['UniqueCarrier'] = better_codes\n",
    "merged['Year']= 2002\n",
    "merged.head()   "
   ]
  },
  {
   "cell_type": "markdown",
   "metadata": {},
   "source": [
    "## CHANGE THIS FILE"
   ]
  },
  {
   "cell_type": "code",
   "execution_count": 154,
   "metadata": {
    "collapsed": true
   },
   "outputs": [],
   "source": [
    "merged.to_csv(\"final_2002.csv\",index=False)  "
   ]
  },
  {
   "cell_type": "code",
   "execution_count": 4,
   "metadata": {
    "collapsed": true
   },
   "outputs": [],
   "source": [
    "y2008 = pd.read_csv(\"final_2008.csv\")\n",
    "y2007 = pd.read_csv(\"final_2007.csv\")\n",
    "y2006 = pd.read_csv(\"final_2006.csv\")\n",
    "y2005 = pd.read_csv(\"final_2005.csv\")\n",
    "y2004 = pd.read_csv(\"final_2004.csv\")\n",
    "y2003 = pd.read_csv(\"final_2003.csv\")"
   ]
  },
  {
   "cell_type": "code",
   "execution_count": 18,
   "metadata": {
    "collapsed": false
   },
   "outputs": [],
   "source": [
    "total_merged = pd.concat([y2003,y2004,y2005,y2006,y2007,y2008])"
   ]
  },
  {
   "cell_type": "code",
   "execution_count": 19,
   "metadata": {
    "collapsed": false,
    "scrolled": true
   },
   "outputs": [
    {
     "data": {
      "text/html": [
       "<div>\n",
       "<table border=\"1\" class=\"dataframe\">\n",
       "  <thead>\n",
       "    <tr style=\"text-align: right;\">\n",
       "      <th></th>\n",
       "      <th>UniqueCarrier</th>\n",
       "      <th>Flight Count</th>\n",
       "      <th>AirTime</th>\n",
       "      <th>DepDelay</th>\n",
       "      <th>ArrDelay</th>\n",
       "      <th>Distance</th>\n",
       "      <th>CarrierDelay</th>\n",
       "      <th>NASDelay</th>\n",
       "      <th>Cancelled</th>\n",
       "      <th>('Delay Type', 'A')</th>\n",
       "      <th>('Delay Type', 'B')</th>\n",
       "      <th>('Delay Type', 'C')</th>\n",
       "      <th>('Delay Type', 'D')</th>\n",
       "      <th>Year</th>\n",
       "    </tr>\n",
       "  </thead>\n",
       "  <tbody>\n",
       "    <tr>\n",
       "      <th>0</th>\n",
       "      <td>American Airlines Inc.</td>\n",
       "      <td>738567</td>\n",
       "      <td>102667961.0</td>\n",
       "      <td>3459811.0</td>\n",
       "      <td>2368834.0</td>\n",
       "      <td>784930194</td>\n",
       "      <td>1230662.0</td>\n",
       "      <td>1735041.0</td>\n",
       "      <td>12080</td>\n",
       "      <td>1963.0</td>\n",
       "      <td>1480.0</td>\n",
       "      <td>2975.0</td>\n",
       "      <td>2.0</td>\n",
       "      <td>2003</td>\n",
       "    </tr>\n",
       "    <tr>\n",
       "      <th>1</th>\n",
       "      <td>Alaska Airlines Inc.</td>\n",
       "      <td>157602</td>\n",
       "      <td>18282454.0</td>\n",
       "      <td>916855.0</td>\n",
       "      <td>500808.0</td>\n",
       "      <td>134600560</td>\n",
       "      <td>297576.0</td>\n",
       "      <td>141152.0</td>\n",
       "      <td>3483</td>\n",
       "      <td>1463.0</td>\n",
       "      <td>444.0</td>\n",
       "      <td>NaN</td>\n",
       "      <td>NaN</td>\n",
       "      <td>2003</td>\n",
       "    </tr>\n",
       "    <tr>\n",
       "      <th>2</th>\n",
       "      <td>JetBlue Airways</td>\n",
       "      <td>66732</td>\n",
       "      <td>11114321.0</td>\n",
       "      <td>378292.0</td>\n",
       "      <td>65800.0</td>\n",
       "      <td>85579777</td>\n",
       "      <td>94645.0</td>\n",
       "      <td>89760.0</td>\n",
       "      <td>308</td>\n",
       "      <td>25.0</td>\n",
       "      <td>64.0</td>\n",
       "      <td>11.0</td>\n",
       "      <td>NaN</td>\n",
       "      <td>2003</td>\n",
       "    </tr>\n",
       "    <tr>\n",
       "      <th>3</th>\n",
       "      <td>Continental Air Lines Inc.</td>\n",
       "      <td>299843</td>\n",
       "      <td>43217008.0</td>\n",
       "      <td>1171639.0</td>\n",
       "      <td>1134288.0</td>\n",
       "      <td>327606672</td>\n",
       "      <td>290367.0</td>\n",
       "      <td>992423.0</td>\n",
       "      <td>2339</td>\n",
       "      <td>209.0</td>\n",
       "      <td>856.0</td>\n",
       "      <td>121.0</td>\n",
       "      <td>42.0</td>\n",
       "      <td>2003</td>\n",
       "    </tr>\n",
       "    <tr>\n",
       "      <th>4</th>\n",
       "      <td>Independence Air</td>\n",
       "      <td>280010</td>\n",
       "      <td>17518495.0</td>\n",
       "      <td>2638536.0</td>\n",
       "      <td>1829535.0</td>\n",
       "      <td>104531297</td>\n",
       "      <td>579592.0</td>\n",
       "      <td>664771.0</td>\n",
       "      <td>11012</td>\n",
       "      <td>1580.0</td>\n",
       "      <td>1570.0</td>\n",
       "      <td>1841.0</td>\n",
       "      <td>NaN</td>\n",
       "      <td>2003</td>\n",
       "    </tr>\n",
       "  </tbody>\n",
       "</table>\n",
       "</div>"
      ],
      "text/plain": [
       "                UniqueCarrier  Flight Count      AirTime   DepDelay  \\\n",
       "0      American Airlines Inc.        738567  102667961.0  3459811.0   \n",
       "1        Alaska Airlines Inc.        157602   18282454.0   916855.0   \n",
       "2             JetBlue Airways         66732   11114321.0   378292.0   \n",
       "3  Continental Air Lines Inc.        299843   43217008.0  1171639.0   \n",
       "4            Independence Air        280010   17518495.0  2638536.0   \n",
       "\n",
       "    ArrDelay   Distance  CarrierDelay   NASDelay  Cancelled  \\\n",
       "0  2368834.0  784930194     1230662.0  1735041.0      12080   \n",
       "1   500808.0  134600560      297576.0   141152.0       3483   \n",
       "2    65800.0   85579777       94645.0    89760.0        308   \n",
       "3  1134288.0  327606672      290367.0   992423.0       2339   \n",
       "4  1829535.0  104531297      579592.0   664771.0      11012   \n",
       "\n",
       "   ('Delay Type', 'A')  ('Delay Type', 'B')  ('Delay Type', 'C')  \\\n",
       "0               1963.0               1480.0               2975.0   \n",
       "1               1463.0                444.0                  NaN   \n",
       "2                 25.0                 64.0                 11.0   \n",
       "3                209.0                856.0                121.0   \n",
       "4               1580.0               1570.0               1841.0   \n",
       "\n",
       "   ('Delay Type', 'D')  Year  \n",
       "0                  2.0  2003  \n",
       "1                  NaN  2003  \n",
       "2                  NaN  2003  \n",
       "3                 42.0  2003  \n",
       "4                  NaN  2003  "
      ]
     },
     "execution_count": 19,
     "metadata": {},
     "output_type": "execute_result"
    }
   ],
   "source": [
    "total_merged.head()"
   ]
  },
  {
   "cell_type": "code",
   "execution_count": 21,
   "metadata": {
    "collapsed": false
   },
   "outputs": [
    {
     "name": "stdout",
     "output_type": "stream",
     "text": [
      "<bound method DataFrame.tail of     ('Delay Type', 'A')  ('Delay Type', 'B')  ('Delay Type', 'C')  \\\n",
      "0           1963.000000          1480.000000          2975.000000   \n",
      "1           1463.000000           444.000000                  NaN   \n",
      "2             25.000000            64.000000            11.000000   \n",
      "3            209.000000           856.000000           121.000000   \n",
      "4           1580.000000          1570.000000          1841.000000   \n",
      "5           1383.000000          1349.000000           742.000000   \n",
      "6           1516.000000           911.000000           678.000000   \n",
      "7            381.000000           291.000000           117.000000   \n",
      "8             30.000000             7.000000                  NaN   \n",
      "9            498.000000           180.000000           192.000000   \n",
      "10          2754.000000          3662.000000           913.000000   \n",
      "11          1527.000000           688.000000          1224.000000   \n",
      "12          1823.000000          1180.000000           614.000000   \n",
      "13           191.000000            90.000000           129.000000   \n",
      "14          1245.000000           721.000000          1014.000000   \n",
      "15          1732.000000           722.000000           919.000000   \n",
      "16          3859.000000           860.000000           665.000000   \n",
      "17           322.000000          1462.000000          1715.000000   \n",
      "0           3861.000000          5136.000000          3405.000000   \n",
      "1           2535.000000          1135.000000                  NaN   \n",
      "2            482.000000            29.000000                  NaN   \n",
      "3            403.000000          1434.000000            58.000000   \n",
      "4           3435.000000          1761.000000          3091.000000   \n",
      "5           5160.000000          3733.000000          1821.000000   \n",
      "6           3043.000000          3005.000000          1490.000000   \n",
      "7            719.000000           931.000000           363.000000   \n",
      "8            111.000000            44.000000                  NaN   \n",
      "9           2109.000000           471.000000           528.000000   \n",
      "10          8257.000000          5964.000000          3547.000000   \n",
      "11          2888.000000          1761.000000          1361.000000   \n",
      "..                  ...                  ...                  ...   \n",
      "16          5594.000000          1900.000000          1448.000000   \n",
      "17          5760.000000          3787.000000           430.000000   \n",
      "18           657.000000          4675.000000          5468.000000   \n",
      "19          5421.000000          2263.000000          3602.000000   \n",
      "0           4329.000000          1932.000000           838.000000   \n",
      "1           9609.000000          5495.000000          2334.000000   \n",
      "2             42.000000                  NaN                  NaN   \n",
      "3           1222.000000           865.000000            52.000000   \n",
      "4            665.000000          2445.000000            95.000000   \n",
      "5            746.000000          2878.000000            78.000000   \n",
      "6           3113.000000          2283.000000          1417.000000   \n",
      "7           1384.000000          2283.000000          1357.000000   \n",
      "8            109.000000           192.000000             2.000000   \n",
      "9            815.000000           976.000000           445.000000   \n",
      "10           563.000000             7.000000                  NaN   \n",
      "11          3644.000000          8408.000000          6275.000000   \n",
      "12          1119.000000           901.000000           886.000000   \n",
      "13          1328.000000          5016.000000           118.000000   \n",
      "14          3162.000000          4748.000000          4525.000000   \n",
      "15          6352.000000          2987.000000          1202.000000   \n",
      "16          3857.000000          1131.000000          1594.000000   \n",
      "17          6554.000000          5167.000000           666.000000   \n",
      "18           697.000000          5424.000000          3871.000000   \n",
      "19          5020.000000          1766.000000          2433.000000   \n",
      "0           1250.055556           918.722222           866.875000   \n",
      "1           3124.052632          2345.210526          1483.312500   \n",
      "2           2967.500000          2695.000000          1442.750000   \n",
      "3           2782.750000          2106.277778          1763.062500   \n",
      "4           3338.950000          3440.888889          1882.058824   \n",
      "5           2716.500000          2889.684211          1566.000000   \n",
      "\n",
      "    ('Delay Type', 'D')       AirTime      ArrDelay     Cancelled  \\\n",
      "0              2.000000  1.026680e+08  2.368834e+06  12080.000000   \n",
      "1                   NaN  1.828245e+07  5.008080e+05   3483.000000   \n",
      "2                   NaN  1.111432e+07  6.580000e+04    308.000000   \n",
      "3             42.000000  4.321701e+07  1.134288e+06   2339.000000   \n",
      "4                   NaN  1.751850e+07  1.829535e+06  11012.000000   \n",
      "5                   NaN  7.209007e+07  2.515975e+06   6943.000000   \n",
      "6              3.000000  1.257779e+07  1.776594e+06   6505.000000   \n",
      "7                   NaN  1.253674e+07  1.194817e+06   1614.000000   \n",
      "8                   NaN  6.255050e+05 -1.114000e+03     37.000000   \n",
      "9                   NaN  2.491861e+07  5.733210e+05   1983.000000   \n",
      "10                  NaN  2.390166e+07  1.758908e+06  13673.000000   \n",
      "11                  NaN  5.147820e+07  9.664560e+05   6114.000000   \n",
      "12            11.000000  5.013420e+07  8.916210e+05   6501.000000   \n",
      "13                  NaN  1.027821e+07  3.385670e+05    855.000000   \n",
      "14                  NaN  7.366376e+07  1.672723e+06   5919.000000   \n",
      "15                  NaN  3.919157e+07  1.710304e+06   6358.000000   \n",
      "16             2.000000  7.692159e+07  1.954955e+06   9718.000000   \n",
      "17           126.000000  2.458879e+07  1.679011e+06   6027.000000   \n",
      "0                   NaN  9.941629e+07  5.574326e+06  12402.000000   \n",
      "1                   NaN  1.931588e+07  1.081262e+06   3670.000000   \n",
      "2                   NaN  1.550893e+07  1.451410e+05    511.000000   \n",
      "3              3.000000  4.369217e+07  2.039154e+06   1898.000000   \n",
      "4                   NaN  1.561835e+07  1.921040e+06   8287.000000   \n",
      "5              3.000000  7.703550e+07  5.548761e+06  10717.000000   \n",
      "6             11.000000  1.158439e+07  1.573380e+06   7542.000000   \n",
      "7                   NaN  1.461290e+07  1.250320e+06   2013.000000   \n",
      "8              7.000000  3.576679e+06 -9.922100e+04    162.000000   \n",
      "9                   NaN  2.669179e+07  1.332268e+06   3108.000000   \n",
      "10            19.000000  2.816920e+07  4.292464e+06  17787.000000   \n",
      "11                  NaN  5.256519e+07  2.858885e+06   6010.000000   \n",
      "..                  ...           ...           ...           ...   \n",
      "16                  NaN  5.561680e+07  5.482173e+06   8942.000000   \n",
      "17            16.000000  1.041913e+08  6.331983e+06   9993.000000   \n",
      "18                  NaN  3.604384e+07  4.226028e+06  10800.000000   \n",
      "19             1.000000  1.812173e+07  3.098114e+06  11287.000000   \n",
      "0              1.000000  1.808703e+07  1.045552e+06   7100.000000   \n",
      "1              2.000000  8.302369e+07  7.381323e+06  17440.000000   \n",
      "2                   NaN  4.796570e+05 -2.239300e+04     42.000000   \n",
      "3                   NaN  1.957752e+07  7.134070e+05   2139.000000   \n",
      "4                   NaN  2.885925e+07  2.129427e+06   3205.000000   \n",
      "5                   NaN  4.580106e+07  3.226245e+06   3702.000000   \n",
      "6                   NaN  5.634680e+07  3.487174e+06   6813.000000   \n",
      "7              2.000000  1.919763e+07  2.805843e+06   5026.000000   \n",
      "8                   NaN  1.160979e+07  5.826290e+05    303.000000   \n",
      "9                   NaN  2.691556e+07  2.352057e+06   2236.000000   \n",
      "10                  NaN  4.599037e+06  7.739700e+04    570.000000   \n",
      "11             4.000000  3.163670e+07  4.660097e+06  18331.000000   \n",
      "12                  NaN  3.884057e+07  2.535588e+06   2906.000000   \n",
      "13                  NaN  1.527751e+07  2.253532e+06   6462.000000   \n",
      "14             1.000000  3.848616e+07  3.651902e+06  12436.000000   \n",
      "15                  NaN  6.352017e+07  4.945362e+06  10541.000000   \n",
      "16                  NaN  5.347422e+07  1.270502e+06   6582.000000   \n",
      "17             2.000000  1.089585e+08  6.147817e+06  12389.000000   \n",
      "18                  NaN  3.252212e+07  3.865055e+06   9992.000000   \n",
      "19                  NaN  1.583751e+07  2.886462e+06   9219.000000   \n",
      "0             31.000000  3.698372e+07  1.273967e+06   5637.166667   \n",
      "1             11.500000  3.759352e+07  2.393505e+06   6724.052632   \n",
      "2             13.142857  3.541020e+07  2.510899e+06   6686.500000   \n",
      "3             22.428571  3.601864e+07  3.040645e+06   6096.700000   \n",
      "4              7.800000  3.740078e+07  3.707552e+06   8037.400000   \n",
      "5              2.000000  3.565252e+07  2.799749e+06   6871.700000   \n",
      "\n",
      "    CarrierDelay      DepDelay      Distance  Flight Count      NASDelay  \\\n",
      "0   1.230662e+06  3.459811e+06  7.849302e+08  7.385670e+05  1.735041e+06   \n",
      "1   2.975760e+05  9.168550e+05  1.346006e+08  1.576020e+05  1.411520e+05   \n",
      "2   9.464500e+04  3.782920e+05  8.557978e+07  6.673200e+04  8.976000e+04   \n",
      "3   2.903670e+05  1.171639e+06  3.276067e+08  2.998430e+05  9.924230e+05   \n",
      "4   5.795920e+05  2.638536e+06  1.045313e+08  2.800100e+05  6.647710e+05   \n",
      "5   8.168710e+05  2.973962e+06  5.332719e+08  6.526020e+05  1.406169e+06   \n",
      "6   5.738260e+05  2.374338e+06  1.112270e+08  2.667600e+05  5.046180e+05   \n",
      "7   1.477970e+05  9.882210e+05  8.625108e+07  1.428170e+05  3.813480e+05   \n",
      "8   1.845100e+04  8.062000e+03  4.776545e+06  7.792000e+03  7.860000e+02   \n",
      "9   3.631530e+05  1.092074e+06  1.892391e+08  1.872660e+05  2.442110e+05   \n",
      "10  6.629970e+05  2.089144e+06  1.432634e+08  4.149020e+05  7.935620e+05   \n",
      "11  8.232290e+05  1.077871e+06  3.685391e+08  4.922740e+05  7.558850e+05   \n",
      "12  5.777200e+05  2.125532e+06  1.301289e+08  3.897630e+05  3.020430e+05   \n",
      "13  8.933600e+04  3.271660e+05  7.897747e+07  6.826500e+04  1.769920e+05   \n",
      "14  6.344510e+05  2.512578e+06  5.653955e+08  5.371780e+05  1.330959e+06   \n",
      "15  4.003810e+05  1.693836e+06  2.747206e+08  4.049880e+05  8.178520e+05   \n",
      "16  6.584070e+05  6.360097e+06  5.335937e+08  9.472310e+05  5.404430e+05   \n",
      "17  3.088190e+05  1.332807e+06  1.595094e+08  3.210980e+05  9.845420e+05   \n",
      "0   2.101534e+06  6.196410e+06  7.670694e+08  6.845020e+05  3.110021e+06   \n",
      "1   6.627260e+05  1.468593e+06  1.432152e+08  1.628250e+05  2.592310e+05   \n",
      "2   1.541350e+05  5.563970e+05  1.199580e+08  8.913700e+04  2.351880e+05   \n",
      "3   5.937280e+05  1.775949e+06  3.315028e+08  2.966910e+05  1.759715e+06   \n",
      "4   5.581520e+05  2.932459e+06  9.460297e+07  2.561910e+05  9.826320e+05   \n",
      "5   1.873049e+06  5.193312e+06  5.705945e+08  6.757240e+05  3.047433e+06   \n",
      "6   9.530920e+05  2.752684e+06  1.187390e+08  2.708440e+05  1.071837e+06   \n",
      "7   2.634750e+05  1.602802e+06  1.017438e+08  1.602380e+05  8.084230e+05   \n",
      "8   8.481600e+04 -1.068000e+04  2.780113e+07  4.789500e+04  3.751000e+03   \n",
      "9   7.334890e+05  1.553263e+06  2.036228e+08  1.925410e+05  6.312000e+05   \n",
      "10  1.505874e+06  3.943791e+06  1.766252e+08  4.644570e+05  1.840239e+06   \n",
      "11  1.730237e+06  2.102740e+06  3.758850e+08  5.002750e+05  1.570771e+06   \n",
      "..           ...           ...           ...           ...           ...   \n",
      "16  2.042191e+06  5.787520e+06  4.049329e+08  4.755830e+05  2.192671e+06   \n",
      "17  2.102273e+06  1.209478e+07  7.352648e+08  1.156958e+06  1.597151e+06   \n",
      "18  1.266355e+06  5.035103e+06  2.422791e+08  4.223050e+05  2.453029e+06   \n",
      "19  1.777089e+06  3.489825e+06  1.154050e+08  2.825850e+05  6.842660e+05   \n",
      "0   9.085090e+05  1.726803e+06  1.181688e+08  2.543220e+05  6.628370e+05   \n",
      "1   2.821907e+06  7.802966e+06  6.370698e+08  5.854850e+05  2.987319e+06   \n",
      "2   8.727000e+03 -1.084400e+04  3.324846e+06  7.752000e+03  9.890000e+02   \n",
      "3   4.818330e+05  1.020350e+06  1.447420e+08  1.484920e+05  3.795000e+05   \n",
      "4   6.776210e+05  2.440878e+06  2.157459e+08  1.921140e+05  1.309542e+06   \n",
      "5   9.961610e+05  3.886953e+06  3.442010e+08  2.938550e+05  1.917507e+06   \n",
      "6   1.411220e+06  3.564817e+06  4.164768e+08  4.439340e+05  1.945194e+06   \n",
      "7   1.688969e+06  3.285923e+06  1.245386e+08  2.748670e+05  1.127930e+06   \n",
      "8   2.509710e+05  5.650970e+05  8.429147e+07  9.538400e+04  3.563340e+05   \n",
      "9   4.437080e+05  2.403285e+06  1.902806e+08  2.587130e+05  1.029858e+06   \n",
      "10  1.848550e+05  2.788700e+04  3.468879e+07  6.121200e+04  9.310000e+02   \n",
      "11  1.705271e+06  5.054033e+06  2.015932e+08  4.711610e+05  1.948506e+06   \n",
      "12  1.478247e+06  2.228375e+06  2.794361e+08  3.441100e+05  1.301073e+06   \n",
      "13  1.075766e+06  2.205401e+06  9.636258e+07  1.906950e+05  1.091356e+06   \n",
      "14  1.678216e+06  4.137595e+06  2.435464e+08  5.534120e+05  1.829877e+06   \n",
      "15  1.720150e+06  6.196282e+06  4.847858e+08  4.379790e+05  2.047161e+06   \n",
      "16  1.109335e+06  2.556181e+06  3.882245e+08  4.460860e+05  1.567919e+06   \n",
      "17  2.261002e+06  1.234954e+07  7.633079e+08  1.186911e+06  1.718542e+06   \n",
      "18  1.218009e+06  4.154705e+06  2.206560e+08  3.634140e+05  2.074904e+06   \n",
      "19  1.927740e+06  2.950054e+06  1.003343e+08  2.451310e+05  8.742220e+05   \n",
      "0   4.760156e+05  1.862268e+06  2.564523e+08  3.542050e+05  6.590309e+05   \n",
      "1   9.912144e+05  2.908323e+06  2.677604e+08  3.677752e+05  1.288019e+06   \n",
      "2   1.072094e+06  3.038987e+06  2.583968e+08  3.496419e+05  1.202310e+06   \n",
      "3   1.212765e+06  3.542862e+06  2.599650e+08  3.501901e+05  1.280536e+06   \n",
      "4   1.440422e+06  4.156393e+06  2.682434e+08  3.637644e+05  1.410037e+06   \n",
      "5   1.202411e+06  3.427314e+06  2.545888e+08  3.427515e+05  1.308575e+06   \n",
      "\n",
      "                                        UniqueCarrier  Year  \n",
      "0                              American Airlines Inc.  2003  \n",
      "1                                Alaska Airlines Inc.  2003  \n",
      "2                                     JetBlue Airways  2003  \n",
      "3                          Continental Air Lines Inc.  2003  \n",
      "4                                    Independence Air  2003  \n",
      "5                                Delta Air Lines Inc.  2003  \n",
      "6                         Atlantic Southeast Airlines  2003  \n",
      "7                         AirTran Airways Corporation  2003  \n",
      "8                              Hawaiian Airlines Inc.  2003  \n",
      "9   America West Airlines Inc. (Merged with US Air...  2003  \n",
      "10                       American Eagle Airlines Inc.  2003  \n",
      "11                            Northwest Airlines Inc.  2003  \n",
      "12                              Skywest Airlines Inc.  2003  \n",
      "13                             ATA Airlines d/b/a ATA  2003  \n",
      "14                              United Air Lines Inc.  2003  \n",
      "15  US Airways Inc. (Merged with America West 9/05...  2003  \n",
      "16                             Southwest Airlines Co.  2003  \n",
      "17                           Expressjet Airlines Inc.  2003  \n",
      "0                              American Airlines Inc.  2004  \n",
      "1                                Alaska Airlines Inc.  2004  \n",
      "2                                     JetBlue Airways  2004  \n",
      "3                          Continental Air Lines Inc.  2004  \n",
      "4                                    Independence Air  2004  \n",
      "5                                Delta Air Lines Inc.  2004  \n",
      "6                         Atlantic Southeast Airlines  2004  \n",
      "7                         AirTran Airways Corporation  2004  \n",
      "8                              Hawaiian Airlines Inc.  2004  \n",
      "9   America West Airlines Inc. (Merged with US Air...  2004  \n",
      "10                       American Eagle Airlines Inc.  2004  \n",
      "11                            Northwest Airlines Inc.  2004  \n",
      "..                                                ...   ...  \n",
      "16  US Airways Inc. (Merged with America West 9/05...  2007  \n",
      "17                             Southwest Airlines Co.  2007  \n",
      "18                           Expressjet Airlines Inc.  2007  \n",
      "19                                 Mesa Airlines Inc.  2007  \n",
      "0                              Pinnacle Airlines Inc.  2008  \n",
      "1                              American Airlines Inc.  2008  \n",
      "2                                 Aloha Airlines Inc.  2008  \n",
      "3                                Alaska Airlines Inc.  2008  \n",
      "4                                     JetBlue Airways  2008  \n",
      "5                          Continental Air Lines Inc.  2008  \n",
      "6                                Delta Air Lines Inc.  2008  \n",
      "7                         Atlantic Southeast Airlines  2008  \n",
      "8                              Frontier Airlines Inc.  2008  \n",
      "9                         AirTran Airways Corporation  2008  \n",
      "10                             Hawaiian Airlines Inc.  2008  \n",
      "11                       American Eagle Airlines Inc.  2008  \n",
      "12                            Northwest Airlines Inc.  2008  \n",
      "13                                        Comair Inc.  2008  \n",
      "14                              Skywest Airlines Inc.  2008  \n",
      "15                              United Air Lines Inc.  2008  \n",
      "16  US Airways Inc. (Merged with America West 9/05...  2008  \n",
      "17                             Southwest Airlines Co.  2008  \n",
      "18                           Expressjet Airlines Inc.  2008  \n",
      "19                                 Mesa Airlines Inc.  2008  \n",
      "0                                             Average  2003  \n",
      "1                                             Average  2004  \n",
      "2                                             Average  2005  \n",
      "3                                             Average  2006  \n",
      "4                                             Average  2007  \n",
      "5                                             Average  2008  \n",
      "\n",
      "[123 rows x 14 columns]>\n"
     ]
    }
   ],
   "source": [
    "mean= total_merged.groupby([\"Year\"], as_index=False).mean()\n",
    "mean[\"UniqueCarrier\"]=\"Average\"\n",
    "#total_merged = pd.concat([total_merged, mean])\n",
    "print total_merged.tail"
   ]
  },
  {
   "cell_type": "code",
   "execution_count": 22,
   "metadata": {
    "collapsed": true
   },
   "outputs": [],
   "source": [
    "total_merged.to_csv(\"final_data.csv\",index=False)  "
   ]
  },
  {
   "cell_type": "code",
   "execution_count": null,
   "metadata": {
    "collapsed": true
   },
   "outputs": [],
   "source": []
  }
 ],
 "metadata": {
  "anaconda-cloud": {},
  "kernelspec": {
   "display_name": "Python [Root]",
   "language": "python",
   "name": "Python [Root]"
  }
 },
 "nbformat": 4,
 "nbformat_minor": 0
}
